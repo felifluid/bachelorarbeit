{
 "cells": [
  {
   "cell_type": "code",
   "execution_count": null,
   "metadata": {},
   "outputs": [],
   "source": [
    "import numpy as np\n",
    "import matplotlib.pyplot as plt"
   ]
  },
  {
   "cell_type": "code",
   "execution_count": null,
   "metadata": {},
   "outputs": [],
   "source": [
    "R_ref = 3\n",
    "s_B = 1\n",
    "s_J = 1\n",
    "q = 2/3\n",
    "\n",
    "r = np.linspace(0, 1, 50)\n",
    "theta = np.linspace(0, 2*np.pi, 100)\n",
    "phi = np.linspace(0, 2*np.pi, 100)\n",
    "\n",
    "r, theta, phi = np.meshgrid(r, theta, phi, indexing='ij')"
   ]
  },
  {
   "cell_type": "code",
   "execution_count": null,
   "metadata": {},
   "outputs": [],
   "source": [
    "R = R_ref + r*np.cos(theta)\n",
    "x = R * np.cos(phi)\n",
    "y = R * np.sin(phi)\n",
    "z = r * np.sin(theta)"
   ]
  },
  {
   "cell_type": "code",
   "execution_count": null,
   "metadata": {},
   "outputs": [],
   "source": [
    "cond = np.s_[-1,:,:]\n",
    "\n",
    "fig = plt.figure(figsize=(16,16))\n",
    "ax = fig.add_subplot(121, projection='3d')\n",
    "ax.set_zlim(-3,3)\n",
    "ax.plot_surface(x[cond], y[cond], z[cond], \n",
    "                rstride=5, \n",
    "                cstride=5,\n",
    "                color=(0,0,0,0),\n",
    "                edgecolors=(0.7,0.7,1,0.7))\n",
    "ax.view_init(24, 30)\n",
    "\n",
    "plt.show()"
   ]
  },
  {
   "cell_type": "markdown",
   "metadata": {},
   "source": [
    "### s-α Geometry"
   ]
  },
  {
   "cell_type": "code",
   "execution_count": null,
   "metadata": {},
   "outputs": [],
   "source": [
    "eps = r/R_ref\n",
    "s = theta/(2*np.pi)\n",
    "zeta = (s_B*s_J)/(2*np.pi) * (np.abs(q)*theta - phi) "
   ]
  },
  {
   "cell_type": "markdown",
   "metadata": {},
   "source": [
    "### Circ Geometry\n",
    "$\\psi(r) = \\frac{r}{R_{ref}}$\n",
    "\n",
    "$s(r, \\theta) = \\frac{1}{2\\pi} \\left[\\theta + \\psi \\sin \\theta\\right]$\n",
    "\n",
    "$\\zeta(r, \\theta, \\varphi) = -\\frac{\\varphi}{2\\pi} + s_B s_j \\frac{|q|}{\\pi} \\arctan \\left[ \\sqrt{\\frac{1-\\psi}{1+\\psi}} \\tan\\frac{\\theta}{2}\\right]$"
   ]
  },
  {
   "cell_type": "code",
   "execution_count": null,
   "metadata": {},
   "outputs": [],
   "source": [
    "psi = r/R_ref\n",
    "s = 1/(2*np.pi)*(theta + psi*np.sin(theta))\n",
    "zeta = - phi/(2*np.pi) + s_B*s_J*np.abs(q)/np.pi * np.arctan(np.sqrt((1-psi)/(1+psi)) * np.tan(theta/2))\n",
    "# zeta = zeta % 1"
   ]
  },
  {
   "cell_type": "code",
   "execution_count": null,
   "metadata": {},
   "outputs": [],
   "source": [
    "conds = [np.s_[-1,:,:]]\n",
    "\n",
    "fig, axs = plt.subplots(1, 2, figsize=(32,16), subplot_kw={'projection': '3d'})\n",
    "\n",
    "for cond in conds:\n",
    "    axs[0].plot_wireframe(x[cond], y[cond], z[cond], \n",
    "                    rstride=5, \n",
    "                    cstride=5,\n",
    "                    color='b')\n",
    "\n",
    "    axs[1].plot_wireframe(psi[cond], s[cond], zeta[cond], \n",
    "                    rstride=5, \n",
    "                    cstride=5,\n",
    "                    color='b')\n",
    "    \n",
    "    \n",
    "axs[0].view_init(24, 30)\n",
    "axs[0].set_aspect('equal')\n",
    "axs[0].set(xlabel='x', ylabel='y', zlabel='z')\n",
    "\n",
    "axs[1].view_init(12,0)\n",
    "axs[1].set(xlabel='psi', ylabel='s', zlabel='zeta')\n",
    "\n",
    "plt.show()"
   ]
  }
 ],
 "metadata": {
  "kernelspec": {
   "display_name": ".venv",
   "language": "python",
   "name": "python3"
  },
  "language_info": {
   "codemirror_mode": {
    "name": "ipython",
    "version": 3
   },
   "file_extension": ".py",
   "mimetype": "text/x-python",
   "name": "python",
   "nbconvert_exporter": "python",
   "pygments_lexer": "ipython3",
   "version": "3.13.2"
  }
 },
 "nbformat": 4,
 "nbformat_minor": 2
}
