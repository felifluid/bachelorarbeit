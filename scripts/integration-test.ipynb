{
 "cells": [
  {
   "cell_type": "code",
   "execution_count": 1,
   "metadata": {},
   "outputs": [],
   "source": [
    "import numpy as np\n",
    "import topovis\n",
    "import matplotlib.pyplot as plt"
   ]
  },
  {
   "cell_type": "code",
   "execution_count": 2,
   "metadata": {},
   "outputs": [
    {
     "name": "stdout",
     "output_type": "stream",
     "text": [
      "s check successful\n"
     ]
    }
   ],
   "source": [
    "# define grid\n",
    "nx = 32\n",
    "ns = 32\n",
    "s_spacing = 1/32\n",
    "\n",
    "x = np.linspace(0.3, 0.8, nx)\n",
    "s = np.linspace(-0.5+s_spacing/2, 0.5-s_spacing/2, ns)\n",
    "ns = len(s)\n",
    "\n",
    "xx, ss = np.meshgrid(x,s)\n",
    "\n",
    "if (np.min(s) - s_spacing) % 0.5 == np.max(s):\n",
    "    print(\"s check successful\")"
   ]
  },
  {
   "cell_type": "markdown",
   "metadata": {},
   "source": [
    "We want to solve this integral:\n",
    "\n",
    "$$ \\int_0^y \\frac{1}{R^2(x,\\tilde{y})} d\\tilde{y}$$"
   ]
  },
  {
   "cell_type": "markdown",
   "metadata": {},
   "source": [
    "For $R(x,y) = e^{xy}$ this solves analytically\n",
    "\n",
    "$$ \\int_0^y \\frac{1}{R^2(x,\\tilde{y})} d\\tilde{y} = \\int_0^y \\frac{1}{e^{2x\\tilde{y}}} d\\tilde{y} = -\\frac{e^{-2xy} -1}{2x} $$"
   ]
  },
  {
   "cell_type": "code",
   "execution_count": 3,
   "metadata": {},
   "outputs": [
    {
     "name": "stdout",
     "output_type": "stream",
     "text": [
      "Check not passed!\n"
     ]
    }
   ],
   "source": [
    "r_n = np.exp(xx*ss)\n",
    "r_ref = 1\n",
    "\n",
    "res = topovis.chease_integration(s, r_n, r_ref, nx, ns)\n",
    "\n",
    "ref = - (np.exp(-2*xx*ss)-1)/(2*xx)\n",
    "\n",
    "if not np.isclose(res, ref).all():\n",
    "    print(\"Check not passed!\")"
   ]
  }
 ],
 "metadata": {
  "kernelspec": {
   "display_name": ".venv",
   "language": "python",
   "name": "python3"
  },
  "language_info": {
   "codemirror_mode": {
    "name": "ipython",
    "version": 3
   },
   "file_extension": ".py",
   "mimetype": "text/x-python",
   "name": "python",
   "nbconvert_exporter": "python",
   "pygments_lexer": "ipython3",
   "version": "3.13.1"
  }
 },
 "nbformat": 4,
 "nbformat_minor": 2
}
